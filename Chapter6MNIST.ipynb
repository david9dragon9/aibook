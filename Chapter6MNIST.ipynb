{
  "cells": [
    {
      "cell_type": "code",
      "execution_count": 1,
      "metadata": {
        "id": "WLU9_0y63oFD"
      },
      "outputs": [],
      "source": [
        "# Code to install packages if they aren't already on your computer\n",
        "# !pip install python-math\n",
        "# !pip install numpy\n",
        "# !pip install matplotlib\n",
        "# !pip install tensorflow"
      ]
    },
    {
      "cell_type": "code",
      "execution_count": 2,
      "metadata": {
        "id": "ZI5idFnz10fR"
      },
      "outputs": [],
      "source": [
        "import math\n",
        "import numpy as np\n",
        "import matplotlib.pyplot as plt\n",
        "import tensorflow as tf"
      ]
    },
    {
      "cell_type": "code",
      "execution_count": 3,
      "metadata": {
        "colab": {
          "base_uri": "https://localhost:8080/"
        },
        "id": "9v0hjLKF2B7Y",
        "outputId": "ff812bcc-e4c1-4a68-e1d3-11d69f79e4cc"
      },
      "outputs": [
        {
          "name": "stdout",
          "output_type": "stream",
          "text": [
            "Downloading data from https://storage.googleapis.com/tensorflow/tf-keras-datasets/mnist.npz\n",
            "11493376/11490434 [==============================] - 0s 0us/step\n",
            "11501568/11490434 [==============================] - 0s 0us/step\n"
          ]
        }
      ],
      "source": [
        "from tensorflow.keras.datasets import mnist\n",
        "(train_images, train_labels), (test_images, test_labels) = mnist.load_data()"
      ]
    },
    {
      "cell_type": "code",
      "execution_count": 4,
      "metadata": {
        "colab": {
          "base_uri": "https://localhost:8080/"
        },
        "id": "27FS-9lt2EFG",
        "outputId": "a6c0f10a-56c3-43c1-8b24-bfb946a8956a"
      },
      "outputs": [
        {
          "name": "stdout",
          "output_type": "stream",
          "text": [
            "(60000, 28, 28) (60000,) (10000, 28, 28) (10000,)\n"
          ]
        }
      ],
      "source": [
        "print(train_images.shape, train_labels.shape, test_images.shape, test_labels.shape)"
      ]
    },
    {
      "cell_type": "code",
      "execution_count": 5,
      "metadata": {
        "colab": {
          "base_uri": "https://localhost:8080/",
          "height": 281
        },
        "id": "Y5WBc-aF2GAa",
        "outputId": "abc3bca2-0a52-4dda-b864-aa9f37bdfa6f"
      },
      "outputs": [
        {
          "data": {
            "image/png": "[encoded data removed]",
            "text/plain": [
              "<Figure size 432x288 with 1 Axes>"
            ]
          },
          "metadata": {
            "needs_background": "light"
          },
          "output_type": "display_data"
        }
      ],
      "source": [
        "plt.imshow(train_images[1], cmap=\"gray\")\n",
        "plt.title(f\"Label = {train_labels[1]}\")\n",
        "plt.show()"
      ]
    },
    {
      "cell_type": "code",
      "execution_count": 6,
      "metadata": {
        "id": "hopHNGZg2Hm0"
      },
      "outputs": [],
      "source": [
        "train_data = train_images.reshape([-1, 784, 1]) / 255.0\n",
        "test_data = test_images.reshape([-1, 784, 1]) / 255.0"
      ]
    },
    {
      "cell_type": "code",
      "execution_count": 7,
      "metadata": {
        "id": "fH3_HhkJ2JIS"
      },
      "outputs": [],
      "source": [
        "train_labels = tf.one_hot(tf.convert_to_tensor(train_labels), depth=10).numpy()\n",
        "test_labels = tf.one_hot(tf.convert_to_tensor(test_labels), depth=10).numpy()"
      ]
    },
    {
      "cell_type": "code",
      "execution_count": 8,
      "metadata": {
        "colab": {
          "base_uri": "https://localhost:8080/"
        },
        "id": "M0IchCG_2K4B",
        "outputId": "99b4cbe3-b302-4dc7-fe51-6dd326c42f2a"
      },
      "outputs": [
        {
          "name": "stdout",
          "output_type": "stream",
          "text": [
            "(60000, 10) (10000, 10)\n"
          ]
        }
      ],
      "source": [
        "print(train_labels.shape, test_labels.shape)"
      ]
    },
    {
      "cell_type": "code",
      "execution_count": 9,
      "metadata": {
        "id": "6qDRQ05J2MQi"
      },
      "outputs": [],
      "source": [
        "def softmax(x):\n",
        "    \"\"\"\n",
        "    Parameters:\n",
        "        x: shape (B, 10, 1)\n",
        "    Returns:\n",
        "        shape (B, 10)\n",
        "    \"\"\"\n",
        "    ex = np.exp(x)\n",
        "    summed = np.sum(ex, axis=1)\n",
        "    return ex[:, :, 0] / summed"
      ]
    },
    {
      "cell_type": "code",
      "execution_count": 10,
      "metadata": {
        "id": "HUC9t7In2PTB"
      },
      "outputs": [],
      "source": [
        "w = np.random.random([10, 784])\n",
        "b = np.zeros([10, 1])"
      ]
    },
    {
      "cell_type": "code",
      "execution_count": 11,
      "metadata": {
        "id": "w4YTkd9L2RCc"
      },
      "outputs": [],
      "source": [
        "def forward(batch, w, b):\n",
        "    \"\"\"\n",
        "    Parameters:\n",
        "        batch: shape (B, 784, 1)\n",
        "        w: shape (10, 784)\n",
        "        b: shape (10, 1)\n",
        "    Returns:\n",
        "        p: shape (B, 10)\n",
        "    \"\"\"\n",
        "    a = w @ batch + b\n",
        "    p = softmax(a)\n",
        "    return p"
      ]
    },
    {
      "cell_type": "code",
      "execution_count": 12,
      "metadata": {
        "id": "d3Xcxv1o2S8p"
      },
      "outputs": [],
      "source": [
        "def gradients(batch_data, batch_labels, w, b):\n",
        "    \"\"\"\n",
        "    Parameters:\n",
        "        batch_data: shape (B, 784, 1)\n",
        "        batch_labels: shape (B, 10)\n",
        "        w: shape (10, 784)\n",
        "        b: shape (10, 1)\n",
        "    Returns:\n",
        "        dw: shape (10, 784)\n",
        "        db: shape (10, 1)\n",
        "    \"\"\"\n",
        "    a = w @ batch_data + b\n",
        "    p = softmax(a)\n",
        "    da = batch_labels * (p - 1) # (B, 10) (B, 784, 1)\n",
        "    dw = da[:, :, np.newaxis] * batch_data[:, np.newaxis, :, 0]\n",
        "    dw = np.mean(dw, axis=0)\n",
        "    db = da\n",
        "    db = np.mean(db, axis=0)[:, np.newaxis]\n",
        "    return dw, db"
      ]
    },
    {
      "cell_type": "code",
      "execution_count": 13,
      "metadata": {
        "id": "gbAAyJ6A2Ugr"
      },
      "outputs": [],
      "source": [
        "def loss(batch_labels, batch_preds):\n",
        "    \"\"\"\n",
        "    Parameters:\n",
        "        batch_labels: shape (B, 10)\n",
        "        batch_preds: shape (B, 10)\n",
        "    Returns:\n",
        "        scalar\n",
        "    \"\"\"\n",
        "    return np.sum(-batch_labels*np.log(batch_preds))"
      ]
    },
    {
      "cell_type": "code",
      "execution_count": 14,
      "metadata": {
        "id": "4DbaQWBa2WUR"
      },
      "outputs": [],
      "source": [
        "def evaluate(w, b):\n",
        "    \"\"\"\n",
        "    Parameters:\n",
        "        w: shape (10, 784)\n",
        "        b: shape (10, 1)\n",
        "    Returns:\n",
        "        scalar\n",
        "    \"\"\"\n",
        "    all_batch_preds = []\n",
        "    all_batch_labels = []\n",
        "    for i in range(10):\n",
        "        batch_data = test_data[1000*i:1000*(i+1)]\n",
        "        batch_labels = test_labels[1000*i:1000*(i+1)]\n",
        "        batch_preds = forward(batch_data, w, b)\n",
        "        batch_preds = np.argmax(batch_preds, axis=1)\n",
        "        batch_preds = tf.one_hot(tf.convert_to_tensor(batch_preds.astype(np.int32)), depth=10).numpy()\n",
        "        all_batch_preds.append(batch_preds)\n",
        "        all_batch_labels.append(batch_labels)\n",
        "    all_batch_preds = np.concatenate(all_batch_preds, axis=0)\n",
        "    all_batch_labels = np.concatenate(all_batch_labels, axis=0)\n",
        "    return np.sum(all_batch_preds * all_batch_labels) / 10000"
      ]
    },
    {
      "cell_type": "code",
      "execution_count": 15,
      "metadata": {
        "id": "ZWn06zvi2Y7T"
      },
      "outputs": [],
      "source": [
        "learning_rate = 0.1\n",
        "epochs = 50\n",
        "all_losses = []\n",
        "all_evaluations = []"
      ]
    },
    {
      "cell_type": "code",
      "execution_count": 16,
      "metadata": {
        "colab": {
          "base_uri": "https://localhost:8080/"
        },
        "id": "02I61tNi2buS",
        "outputId": "4bb55da6-4bd5-4e54-8c30-c8f87aa8e10c"
      },
      "outputs": [
        {
          "name": "stdout",
          "output_type": "stream",
          "text": [
            "epoch 0 step 59 loss 3342.735461783309\n",
            "evaluate 0.4517\n",
            "epoch 1 step 59 loss 1416.1006170649598\n",
            "evaluate 0.6562\n",
            "epoch 2 step 59 loss 1035.2208053674815\n",
            "evaluate 0.725\n",
            "epoch 3 step 59 loss 903.0744336780305\n",
            "evaluate 0.7566\n",
            "epoch 4 step 59 loss 836.6623056437859\n",
            "evaluate 0.7774\n",
            "epoch 5 step 59 loss 798.3651177681521\n",
            "evaluate 0.7914\n",
            "epoch 6 step 59 loss 774.6928805212696\n",
            "evaluate 0.8026\n",
            "epoch 7 step 59 loss 759.4987454553235\n",
            "evaluate 0.8119\n",
            "epoch 8 step 59 loss 749.5867764467389\n",
            "evaluate 0.818\n",
            "epoch 9 step 59 loss 743.1383657904133\n",
            "evaluate 0.822\n",
            "epoch 10 step 59 loss 739.0462545105031\n",
            "evaluate 0.826\n",
            "epoch 11 step 59 loss 736.6004019924152\n",
            "evaluate 0.8295\n",
            "epoch 12 step 59 loss 735.3268725628801\n",
            "evaluate 0.8328\n",
            "epoch 13 step 59 loss 734.8992030041633\n",
            "evaluate 0.8353\n",
            "epoch 14 step 59 loss 735.0867407629921\n",
            "evaluate 0.8366\n",
            "epoch 15 step 59 loss 735.7231022427283\n",
            "evaluate 0.8382\n",
            "epoch 16 step 59 loss 736.6861852161078\n",
            "evaluate 0.8395\n",
            "epoch 17 step 59 loss 737.8851069895996\n",
            "evaluate 0.8406\n",
            "epoch 18 step 59 loss 739.2514397450327\n",
            "evaluate 0.8417\n",
            "epoch 19 step 59 loss 740.7331905507747\n",
            "evaluate 0.8428\n",
            "epoch 20 step 59 loss 742.2905795855163\n",
            "evaluate 0.8438\n",
            "epoch 21 step 59 loss 743.8930237308002\n",
            "evaluate 0.8444\n",
            "epoch 22 step 59 loss 745.5169450751223\n",
            "evaluate 0.845\n",
            "epoch 23 step 59 loss 747.1441547183114\n",
            "evaluate 0.8462\n",
            "epoch 24 step 59 loss 748.7606447611639\n",
            "evaluate 0.8464\n",
            "epoch 25 step 59 loss 750.3556744953744\n",
            "evaluate 0.847\n",
            "epoch 26 step 59 loss 751.921071702258\n",
            "evaluate 0.8482\n",
            "epoch 27 step 59 loss 753.4506933024934\n",
            "evaluate 0.8488\n",
            "epoch 28 step 59 loss 754.9400054660543\n",
            "evaluate 0.8493\n",
            "epoch 29 step 59 loss 756.3857542509835\n",
            "evaluate 0.8502\n",
            "epoch 30 step 59 loss 757.7857055215792\n",
            "evaluate 0.85\n",
            "epoch 31 step 59 loss 759.1384383561544\n",
            "evaluate 0.8505\n",
            "epoch 32 step 59 loss 760.4431800855829\n",
            "evaluate 0.8508\n",
            "epoch 33 step 59 loss 761.6996739690189\n",
            "evaluate 0.8509\n",
            "epoch 34 step 59 loss 762.9080726252785\n",
            "evaluate 0.8513\n",
            "epoch 35 step 59 loss 764.068851911717\n",
            "evaluate 0.8514\n",
            "epoch 36 step 59 loss 765.1827411257243\n",
            "evaluate 0.8516\n",
            "epoch 37 step 59 loss 766.2506663017391\n",
            "evaluate 0.8518\n",
            "epoch 38 step 59 loss 767.273704063278\n",
            "evaluate 0.852\n",
            "epoch 39 step 59 loss 768.2530440184736\n",
            "evaluate 0.8521\n",
            "epoch 40 step 59 loss 769.1899580978485\n",
            "evaluate 0.8527\n",
            "epoch 41 step 59 loss 770.0857755532493\n",
            "evaluate 0.8528\n",
            "epoch 42 step 59 loss 770.9418625881528\n",
            "evaluate 0.8529\n",
            "epoch 43 step 59 loss 771.7596057879017\n",
            "evaluate 0.853\n",
            "epoch 44 step 59 loss 772.540398675725\n",
            "evaluate 0.8531\n",
            "epoch 45 step 59 loss 773.2856308457808\n",
            "evaluate 0.8536\n",
            "epoch 46 step 59 loss 773.9966792248799\n",
            "evaluate 0.8539\n",
            "epoch 47 step 59 loss 774.6749010952504\n",
            "evaluate 0.8539\n",
            "epoch 48 step 59 loss 775.3216285759589\n",
            "evaluate 0.854\n",
            "epoch 49 step 59 loss 775.9381643134598\n",
            "evaluate 0.854\n"
          ]
        }
      ],
      "source": [
        "for epoch in range(epochs):\n",
        "    learning_rate *= 0.95\n",
        "    loss_sum = 0\n",
        "    for i in range(60):\n",
        "        batch_data = train_data[1000*i:1000*(i+1)]\n",
        "        batch_labels = train_labels[1000*i:1000*(i+1)]\n",
        "        dw, db = gradients(batch_data, batch_labels, w, b)\n",
        "        batch_preds = forward(batch_data, w, b)\n",
        "        loss_sum += loss(batch_labels, batch_preds)\n",
        "        if i == 59:\n",
        "            all_losses.append(loss_sum/60)\n",
        "            print(f\"epoch {epoch} step {i} loss {loss_sum / (i + 1)}\")\n",
        "            evaluation_result = evaluate(w, b)\n",
        "            all_evaluations.append(evaluation_result)\n",
        "            print(f\"evaluate {evaluation_result}\")\n",
        "        w = w - learning_rate * dw\n",
        "        b = b - learning_rate * db"
      ]
    },
    {
      "cell_type": "code",
      "execution_count": 17,
      "metadata": {
        "colab": {
          "base_uri": "https://localhost:8080/",
          "height": 281
        },
        "id": "cT0LeWsI3BGB",
        "outputId": "7df6482d-6596-4b8a-a8b0-f8243f8af9e1"
      },
      "outputs": [
        {
          "data": {
            "image/png": "[encoded data removed]",
            "text/plain": [
              "<Figure size 432x288 with 1 Axes>"
            ]
          },
          "metadata": {
            "needs_background": "light"
          },
          "output_type": "display_data"
        }
      ],
      "source": [
        "plt.plot([i for i in range(50)], all_losses)\n",
        "plt.title(\"Epochs vs Training Loss\")\n",
        "plt.show()"
      ]
    },
    {
      "cell_type": "code",
      "execution_count": 18,
      "metadata": {
        "colab": {
          "base_uri": "https://localhost:8080/",
          "height": 281
        },
        "id": "N0vizo4A3DSB",
        "outputId": "75d2fdd6-e26c-4044-f06b-3fdf1f239e22"
      },
      "outputs": [
        {
          "data": {
            "image/png": "[encoded data removed]",
            "text/plain": [
              "<Figure size 432x288 with 1 Axes>"
            ]
          },
          "metadata": {
            "needs_background": "light"
          },
          "output_type": "display_data"
        }
      ],
      "source": [
        "plt.plot([i for i in range(50)], all_evaluations)\n",
        "plt.title(\"Epochs vs Validation Accuracy\")\n",
        "plt.show()"
      ]
    },
    {
      "cell_type": "code",
      "execution_count": 19,
      "metadata": {
        "colab": {
          "base_uri": "https://localhost:8080/",
          "height": 1000
        },
        "id": "7dfsix633E9i",
        "outputId": "e1f83ccc-697f-4f31-e938-aa2d2a432387"
      },
      "outputs": [
        {
          "data": {
            "image/png": "[encoded data removed]",
            "text/plain": [
              "<Figure size 432x288 with 1 Axes>"
            ]
          },
          "metadata": {
            "needs_background": "light"
          },
          "output_type": "display_data"
        },
        {
          "name": "stdout",
          "output_type": "stream",
          "text": [
            "Predicted: 7\n",
            "Actual: 7\n"
          ]
        },
        {
          "data": {
            "image/png": "[encoded data removed]",
            "text/plain": [
              "<Figure size 432x288 with 1 Axes>"
            ]
          },
          "metadata": {
            "needs_background": "light"
          },
          "output_type": "display_data"
        },
        {
          "name": "stdout",
          "output_type": "stream",
          "text": [
            "Predicted: 2\n",
            "Actual: 2\n"
          ]
        },
        {
          "data": {
            "image/png": "[encoded data removed]",
            "text/plain": [
              "<Figure size 432x288 with 1 Axes>"
            ]
          },
          "metadata": {
            "needs_background": "light"
          },
          "output_type": "display_data"
        },
        {
          "name": "stdout",
          "output_type": "stream",
          "text": [
            "Predicted: 1\n",
            "Actual: 1\n"
          ]
        },
        {
          "data": {
            "image/png": "[encoded data removed]",
            "text/plain": [
              "<Figure size 432x288 with 1 Axes>"
            ]
          },
          "metadata": {
            "needs_background": "light"
          },
          "output_type": "display_data"
        },
        {
          "name": "stdout",
          "output_type": "stream",
          "text": [
            "Predicted: 0\n",
            "Actual: 0\n"
          ]
        },
        {
          "data": {
            "image/png": "[encoded data removed]",
            "text/plain": [
              "<Figure size 432x288 with 1 Axes>"
            ]
          },
          "metadata": {
            "needs_background": "light"
          },
          "output_type": "display_data"
        },
        {
          "name": "stdout",
          "output_type": "stream",
          "text": [
            "Predicted: 4\n",
            "Actual: 4\n"
          ]
        },
        {
          "data": {
            "image/png": "[encoded data removed]",
            "text/plain": [
              "<Figure size 432x288 with 1 Axes>"
            ]
          },
          "metadata": {
            "needs_background": "light"
          },
          "output_type": "display_data"
        },
        {
          "name": "stdout",
          "output_type": "stream",
          "text": [
            "Predicted: 1\n",
            "Actual: 1\n"
          ]
        },
        {
          "data": {
            "image/png": "[encoded data removed]",
            "text/plain": [
              "<Figure size 432x288 with 1 Axes>"
            ]
          },
          "metadata": {
            "needs_background": "light"
          },
          "output_type": "display_data"
        },
        {
          "name": "stdout",
          "output_type": "stream",
          "text": [
            "Predicted: 4\n",
            "Actual: 4\n"
          ]
        },
        {
          "data": {
            "image/png": "[encoded data removed]",
            "text/plain": [
              "<Figure size 432x288 with 1 Axes>"
            ]
          },
          "metadata": {
            "needs_background": "light"
          },
          "output_type": "display_data"
        },
        {
          "name": "stdout",
          "output_type": "stream",
          "text": [
            "Predicted: 9\n",
            "Actual: 9\n"
          ]
        },
        {
          "data": {
            "image/png": "[encoded data removed]",
            "text/plain": [
              "<Figure size 432x288 with 1 Axes>"
            ]
          },
          "metadata": {
            "needs_background": "light"
          },
          "output_type": "display_data"
        },
        {
          "name": "stdout",
          "output_type": "stream",
          "text": [
            "Predicted: 6\n",
            "Actual: 5\n"
          ]
        },
        {
          "data": {
            "image/png": "[encoded data removed]",
            "text/plain": [
              "<Figure size 432x288 with 1 Axes>"
            ]
          },
          "metadata": {
            "needs_background": "light"
          },
          "output_type": "display_data"
        },
        {
          "name": "stdout",
          "output_type": "stream",
          "text": [
            "Predicted: 9\n",
            "Actual: 9\n"
          ]
        },
        {
          "data": {
            "image/png": "[encoded data removed]",
            "text/plain": [
              "<Figure size 432x288 with 1 Axes>"
            ]
          },
          "metadata": {
            "needs_background": "light"
          },
          "output_type": "display_data"
        },
        {
          "name": "stdout",
          "output_type": "stream",
          "text": [
            "Predicted: 0\n",
            "Actual: 0\n"
          ]
        },
        {
          "data": {
            "image/png": "[encoded data removed]",
            "text/plain": [
              "<Figure size 432x288 with 1 Axes>"
            ]
          },
          "metadata": {
            "needs_background": "light"
          },
          "output_type": "display_data"
        },
        {
          "name": "stdout",
          "output_type": "stream",
          "text": [
            "Predicted: 8\n",
            "Actual: 6\n"
          ]
        },
        {
          "data": {
            "image/png": "[encoded data removed]",
            "text/plain": [
              "<Figure size 432x288 with 1 Axes>"
            ]
          },
          "metadata": {
            "needs_background": "light"
          },
          "output_type": "display_data"
        },
        {
          "name": "stdout",
          "output_type": "stream",
          "text": [
            "Predicted: 9\n",
            "Actual: 9\n"
          ]
        },
        {
          "data": {
            "image/png": "[encoded data removed]",
            "text/plain": [
              "<Figure size 432x288 with 1 Axes>"
            ]
          },
          "metadata": {
            "needs_background": "light"
          },
          "output_type": "display_data"
        },
        {
          "name": "stdout",
          "output_type": "stream",
          "text": [
            "Predicted: 0\n",
            "Actual: 0\n"
          ]
        },
        {
          "data": {
            "image/png": "[encoded data removed]",
            "text/plain": [
              "<Figure size 432x288 with 1 Axes>"
            ]
          },
          "metadata": {
            "needs_background": "light"
          },
          "output_type": "display_data"
        },
        {
          "name": "stdout",
          "output_type": "stream",
          "text": [
            "Predicted: 1\n",
            "Actual: 1\n"
          ]
        },
        {
          "data": {
            "image/png": "[encoded data removed]",
            "text/plain": [
              "<Figure size 432x288 with 1 Axes>"
            ]
          },
          "metadata": {
            "needs_background": "light"
          },
          "output_type": "display_data"
        },
        {
          "name": "stdout",
          "output_type": "stream",
          "text": [
            "Predicted: 5\n",
            "Actual: 5\n"
          ]
        },
        {
          "data": {
            "image/png": "[encoded data removed]",
            "text/plain": [
              "<Figure size 432x288 with 1 Axes>"
            ]
          },
          "metadata": {
            "needs_background": "light"
          },
          "output_type": "display_data"
        },
        {
          "name": "stdout",
          "output_type": "stream",
          "text": [
            "Predicted: 9\n",
            "Actual: 9\n"
          ]
        },
        {
          "data": {
            "image/png": "[encoded data removed]",
            "text/plain": [
              "<Figure size 432x288 with 1 Axes>"
            ]
          },
          "metadata": {
            "needs_background": "light"
          },
          "output_type": "display_data"
        },
        {
          "name": "stdout",
          "output_type": "stream",
          "text": [
            "Predicted: 7\n",
            "Actual: 7\n"
          ]
        },
        {
          "data": {
            "image/png": "[encoded data removed]",
            "text/plain": [
              "<Figure size 432x288 with 1 Axes>"
            ]
          },
          "metadata": {
            "needs_background": "light"
          },
          "output_type": "display_data"
        },
        {
          "name": "stdout",
          "output_type": "stream",
          "text": [
            "Predicted: 3\n",
            "Actual: 3\n"
          ]
        },
        {
          "data": {
            "image/png": "[encoded data removed]",
            "text/plain": [
              "<Figure size 432x288 with 1 Axes>"
            ]
          },
          "metadata": {
            "needs_background": "light"
          },
          "output_type": "display_data"
        },
        {
          "name": "stdout",
          "output_type": "stream",
          "text": [
            "Predicted: 4\n",
            "Actual: 4\n"
          ]
        }
      ],
      "source": [
        "for i in range(20):\n",
        "    curr_data = test_data[i:i+1]\n",
        "    curr_label = np.argmax(test_labels[i:i+1])\n",
        "    plt.imshow(test_images[i], cmap=\"gray\")\n",
        "    plt.show()\n",
        "    prob = forward(curr_data, w, b)[0]\n",
        "    pred = np.argmax(prob)\n",
        "    print(f\"Predicted: {pred}\")\n",
        "    print(f\"Actual: {curr_label}\")"
      ]
    },
    {
      "cell_type": "code",
      "execution_count": 20,
      "metadata": {
        "colab": {
          "base_uri": "https://localhost:8080/",
          "height": 265
        },
        "id": "CuTIQ3r03GhX",
        "outputId": "2867a881-b657-4de0-f508-d29eb3ec8de0"
      },
      "outputs": [
        {
          "data": {
            "image/png": "[encoded data removed]",
            "text/plain": [
              "<Figure size 432x288 with 1 Axes>"
            ]
          },
          "metadata": {
            "needs_background": "light"
          },
          "output_type": "display_data"
        }
      ],
      "source": [
        "plt.imshow(w[3].reshape([28, 28]), cmap=\"gray\")\n",
        "plt.show()"
      ]
    }
  ],
  "metadata": {
    "colab": {
      "collapsed_sections": [],
      "name": "Chapter6MNIST.ipynb",
      "provenance": []
    },
    "kernelspec": {
      "display_name": "Python 3",
      "name": "python3"
    },
    "language_info": {
      "codemirror_mode": {
        "name": "ipython",
        "version": 3
      },
      "file_extension": ".py",
      "mimetype": "text/x-python",
      "name": "python",
      "nbconvert_exporter": "python",
      "pygments_lexer": "ipython3",
      "version": "3.9.10"
    }
  },
  "nbformat": 4,
  "nbformat_minor": 0
}
